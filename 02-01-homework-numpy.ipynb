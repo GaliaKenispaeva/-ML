{
 "cells": [
  {
   "cell_type": "markdown",
   "metadata": {},
   "source": [
    "# Homework 2.1 Numpy\n",
    "\n",
    "1. Скачайте этот ноутбук к себе.\n",
    "2. Заполните пропущенные ячейки, отвечая на заданные вопросы. Там должен быть код! (если не сказано обратное)\n",
    "3. Сохраните результат в своём гитхаб репозитории.\n",
    "\n",
    "#### Полезная литература\n",
    "\n",
    "- http://www.numpy.org/\n",
    "- https://jakevdp.github.io/PythonDataScienceHandbook/02.00-introduction-to-numpy.html\n",
    "- https://docs.scipy.org/doc/numpy/user/quickstart.html"
   ]
  },
  {
   "cell_type": "markdown",
   "metadata": {},
   "source": [
    "1) Создать матрицу с числами в диапазоне от 1 до 4 по диагонали. В других ячейках матрицы должны быть семерки."
   ]
  },
  {
   "cell_type": "code",
   "execution_count": 2,
   "metadata": {},
   "outputs": [
    {
     "data": {
      "text/plain": [
       "array([[1, 7, 7, 7],\n",
       "       [7, 2, 7, 7],\n",
       "       [7, 7, 3, 7],\n",
       "       [7, 7, 7, 4]])"
      ]
     },
     "execution_count": 2,
     "metadata": {},
     "output_type": "execute_result"
    }
   ],
   "source": [
    "import numpy as np\n",
    "mat = np.full((4, 4), 7)\n",
    "for i in range(len(mat)):\n",
    "    mat[i][i] = i + 1\n",
    "mat"
   ]
  },
  {
   "cell_type": "markdown",
   "metadata": {},
   "source": [
    "2) Создать матрицу размера 5 на 5 заполненную чилами от 0 до 4 в строках."
   ]
  },
  {
   "cell_type": "code",
   "execution_count": 8,
   "metadata": {},
   "outputs": [
    {
     "data": {
      "text/plain": [
       "[array([0, 1, 2, 3, 4]),\n",
       " array([0, 1, 2, 3, 4]),\n",
       " array([0, 1, 2, 3, 4]),\n",
       " array([0, 1, 2, 3, 4]),\n",
       " array([0, 1, 2, 3, 4])]"
      ]
     },
     "execution_count": 8,
     "metadata": {},
     "output_type": "execute_result"
    }
   ],
   "source": [
    "mat = []\n",
    "for i in range(5):\n",
    "    mat.append(np.arange(0,5))\n",
    "mat"
   ]
  },
  {
   "cell_type": "markdown",
   "metadata": {},
   "source": [
    "3) Создать матрицу случайных чисел размера 10 на 10 и отнять среднее по строкам из каждого элемента строки"
   ]
  },
  {
   "cell_type": "code",
   "execution_count": 7,
   "metadata": {},
   "outputs": [
    {
     "name": "stdout",
     "output_type": "stream",
     "text": [
      "[[15 97 64 81 86 60 36 64 35 80]\n",
      " [ 2 32 48 14 17 15  0 76 16  7]\n",
      " [28 56  7 78 13 14 15 56 50 12]\n",
      " [66 75 24 83 20 65 24 30  4 26]\n",
      " [95 17 89 21 98 79 30 39  3 87]\n",
      " [26 29 66 90 15 45 83 31 36 61]\n",
      " [80 26 86  5 89  8 50 90  3 37]\n",
      " [37 17  0  8 28 25  6 42 32  6]\n",
      " [38 35 85 88 92 76 95 24 18 59]\n",
      " [ 9 77 23 62 45 90 16 67 16 55]]\n",
      "[[-46.8  35.2   2.2  19.2  24.2  -1.8 -25.8   2.2 -26.8  18.2]\n",
      " [-20.7   9.3  25.3  -8.7  -5.7  -7.7 -22.7  53.3  -6.7 -15.7]\n",
      " [ -4.9  23.1 -25.9  45.1 -19.9 -18.9 -17.9  23.1  17.1 -20.9]\n",
      " [ 24.3  33.3 -17.7  41.3 -21.7  23.3 -17.7 -11.7 -37.7 -15.7]\n",
      " [ 39.2 -38.8  33.2 -34.8  42.2  23.2 -25.8 -16.8 -52.8  31.2]\n",
      " [-22.2 -19.2  17.8  41.8 -33.2  -3.2  34.8 -17.2 -12.2  12.8]\n",
      " [ 32.6 -21.4  38.6 -42.4  41.6 -39.4   2.6  42.6 -44.4 -10.4]\n",
      " [ 16.9  -3.1 -20.1 -12.1   7.9   4.9 -14.1  21.9  11.9 -14.1]\n",
      " [-23.  -26.   24.   27.   31.   15.   34.  -37.  -43.   -2. ]\n",
      " [-37.   31.  -23.   16.   -1.   44.  -30.   21.  -30.    9. ]]\n",
      "Среднее значение: \n",
      "61.8\n",
      "22.7\n",
      "32.9\n",
      "41.7\n",
      "55.8\n",
      "48.2\n",
      "47.4\n",
      "20.1\n",
      "61.0\n",
      "46.0\n"
     ]
    }
   ],
   "source": [
    "mat = np.random.randint(0, 100, (10, 10))\n",
    "sub = []\n",
    "for i in range(len(mat)):\n",
    "    dS = mat[i].sum() / len(mat)\n",
    "    sub.append([dS]*len(mat))\n",
    "print(mat)\n",
    "mat = mat - sub\n",
    "print(mat)\n",
    "\n",
    "print('Среднее значение: ')\n",
    "for i in range(len(sub)):\n",
    "    print(sub[i][0])\n"
   ]
  },
  {
   "cell_type": "markdown",
   "metadata": {},
   "source": [
    "4) Создать матрицу случайных чисел размера 10 на 10 и отнять медиану по столбцам из каждого элемента столбца  "
   ]
  },
  {
   "cell_type": "code",
   "execution_count": 8,
   "metadata": {},
   "outputs": [
    {
     "name": "stdout",
     "output_type": "stream",
     "text": [
      "[[ 0 50 19 30 86 41 51 17 90 30]\n",
      " [72 58 78 82 32 91 77 60 62 92]\n",
      " [49 81 93 28 16 97 54 70 69 21]\n",
      " [56 24 51 64 65 63 63 35 16  4]\n",
      " [32 50 78 49 39 57 96 77 80 57]\n",
      " [ 8 40 80 37 36 99  6 45 29 75]\n",
      " [79 49 18 16 40 37 96  9 88 79]\n",
      " [72 55 95 30 14 78 15 62  3  7]\n",
      " [29  1 33 18 84 75 20 47 15 21]\n",
      " [94 64  5 52 21 70 67 91 86 87]]\n",
      "[[-35.5  14.5 -16.5  -5.5  50.5   5.5  15.5 -18.5  54.5  -5.5]\n",
      " [ -2.5 -16.5   3.5   7.5 -42.5  16.5   2.5 -14.5 -12.5  17.5]\n",
      " [-12.5  19.5  31.5 -33.5 -45.5  35.5  -7.5   8.5   7.5 -40.5]\n",
      " [  2.5 -29.5  -2.5  10.5  11.5   9.5   9.5 -18.5 -37.5 -49.5]\n",
      " [-25.   -7.   21.   -8.  -18.    0.   39.   20.   23.    0. ]\n",
      " [-30.5   1.5  41.5  -1.5  -2.5  60.5 -32.5   6.5  -9.5  36.5]\n",
      " [ 34.5   4.5 -26.5 -28.5  -4.5  -7.5  51.5 -35.5  43.5  34.5]\n",
      " [ 29.5  12.5  52.5 -12.5 -28.5  35.5 -27.5  19.5 -39.5 -35.5]\n",
      " [  4.  -24.    8.   -7.   59.   50.   -5.   22.  -10.   -4. ]\n",
      " [ 25.5  -4.5 -63.5 -16.5 -47.5   1.5  -1.5  22.5  17.5  18.5]]\n",
      "Медианы: \n",
      "35.5\n",
      "74.5\n",
      "61.5\n",
      "53.5\n",
      "57.0\n",
      "38.5\n",
      "44.5\n",
      "42.5\n",
      "25.0\n",
      "68.5\n"
     ]
    }
   ],
   "source": [
    "mat = np.random.randint(0, 100, (10, 10))\n",
    "print(mat)\n",
    "sub = []\n",
    "for i in range(len(mat)):\n",
    "    med = np.median(mat[i])\n",
    "    sub.append([med]*len(mat))\n",
    "mat = mat - sub\n",
    "print(mat)\n",
    "\n",
    "print('Медианы: ')\n",
    "for i in range(len(sub)):\n",
    "    print(sub[i][0])"
   ]
  },
  {
   "cell_type": "markdown",
   "metadata": {},
   "source": [
    "5) Создать матрицу случайных чисел 5x5. Добавить к ней столбецы максимумов и минимумов по строкам. Получится матрица 5x7.  "
   ]
  },
  {
   "cell_type": "code",
   "execution_count": 39,
   "metadata": {},
   "outputs": [
    {
     "data": {
      "text/plain": [
       "array([[91, 28, 32, 94, 49, 94, 28],\n",
       "       [ 8, 43, 21, 38,  5, 43,  5],\n",
       "       [86, 61, 60, 41,  9, 86,  9],\n",
       "       [ 3, 42, 21, 13, 65, 65,  3],\n",
       "       [82, 68, 27, 51, 64, 82, 27]])"
      ]
     },
     "execution_count": 39,
     "metadata": {},
     "output_type": "execute_result"
    }
   ],
   "source": [
    "mat = np.random.randint(0, 100, (5, 5))\n",
    "max_ = mat.max(axis=1)\n",
    "min_ = mat.min(axis=1)\n",
    "\n",
    "max_ = np.array(max_).reshape(5,1)\n",
    "min_ = np.array(min_).reshape(5,1)\n",
    "mat = np.hstack((mat, max_))\n",
    "np.hstack((mat, min_))"
   ]
  },
  {
   "cell_type": "markdown",
   "metadata": {},
   "source": [
    "6) Вектор чисел от 1 до 51 преобразовать в вектор нечетных чисел и в вектор четных чисел, поменять их размерности, чтобы получились две матрица. Найти произведение этих матриц. Найти обратную матрицу эётого произведения.  "
   ]
  },
  {
   "cell_type": "code",
   "execution_count": 49,
   "metadata": {},
   "outputs": [
    {
     "data": {
      "text/plain": [
       "array([[-1.21871343e+13,  2.67820109e+13, -7.22322708e+12,\n",
       "        -1.71510415e+13,  9.77939191e+12],\n",
       "       [ 3.49947211e+13, -7.99502395e+13,  2.98823915e+13,\n",
       "         4.01070508e+13, -2.50339240e+13],\n",
       "       [-3.18613578e+13,  7.91586529e+13, -4.63078120e+13,\n",
       "        -1.74149036e+13,  1.64254205e+13],\n",
       "       [ 7.48708926e+12, -2.55946311e+13,  3.18613578e+13,\n",
       "        -1.68871793e+13,  3.13336335e+12],\n",
       "       [ 1.56668167e+12, -3.95793265e+11, -8.21271024e+12,\n",
       "         1.13460736e+13, -4.30425175e+12]])"
      ]
     },
     "execution_count": 49,
     "metadata": {},
     "output_type": "execute_result"
    }
   ],
   "source": [
    "arr = np.arange(1,51)\n",
    "arr_odd = arr[arr % 2 != 0]\n",
    "arr_even = arr[arr % 2 == 0]\n",
    "arr_odd = arr_odd.reshape((5,-1))\n",
    "arr_even = arr_even.reshape((-1,5))\n",
    "A = arr_even * arr_odd\n",
    "np.linalg.inv(A)"
   ]
  },
  {
   "cell_type": "markdown",
   "metadata": {},
   "source": [
    "7) Создать 8x8 матрицу и заполнить её в шахматном порядке нулями и единицами. "
   ]
  },
  {
   "cell_type": "code",
   "execution_count": 65,
   "metadata": {},
   "outputs": [
    {
     "data": {
      "text/plain": [
       "array([[1., 0., 1., 0., 1., 0., 1., 0.],\n",
       "       [0., 1., 0., 1., 0., 1., 0., 1.],\n",
       "       [1., 0., 1., 0., 1., 0., 1., 0.],\n",
       "       [0., 1., 0., 1., 0., 1., 0., 1.],\n",
       "       [1., 0., 1., 0., 1., 0., 1., 0.],\n",
       "       [0., 1., 0., 1., 0., 1., 0., 1.],\n",
       "       [1., 0., 1., 0., 1., 0., 1., 0.],\n",
       "       [0., 1., 0., 1., 0., 1., 0., 1.]])"
      ]
     },
     "execution_count": 65,
     "metadata": {},
     "output_type": "execute_result"
    }
   ],
   "source": [
    "A = np.zeros((8,8))\n",
    "for i in range(0,16, 2):\n",
    "    A += np.eye(8, k= i-6)\n",
    "A"
   ]
  }
 ],
 "metadata": {
  "kernelspec": {
   "display_name": "Python 3",
   "language": "python",
   "name": "python3"
  },
  "language_info": {
   "codemirror_mode": {
    "name": "ipython",
    "version": 3
   },
   "file_extension": ".py",
   "mimetype": "text/x-python",
   "name": "python",
   "nbconvert_exporter": "python",
   "pygments_lexer": "ipython3",
   "version": "3.7.0"
  }
 },
 "nbformat": 4,
 "nbformat_minor": 2
}
