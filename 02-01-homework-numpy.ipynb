{
 "cells": [
  {
   "cell_type": "markdown",
   "metadata": {},
   "source": [
    "# Homework 2.1 Numpy\n",
    "\n",
    "1. Скачайте этот ноутбук к себе.\n",
    "2. Заполните пропущенные ячейки, отвечая на заданные вопросы. Там должен быть код! (если не сказано обратное)\n",
    "3. Сохраните результат в своём гитхаб репозитории.\n",
    "\n",
    "#### Полезная литература\n",
    "\n",
    "- http://www.numpy.org/\n",
    "- https://jakevdp.github.io/PythonDataScienceHandbook/02.00-introduction-to-numpy.html\n",
    "- https://docs.scipy.org/doc/numpy/user/quickstart.html"
   ]
  },
  {
   "cell_type": "markdown",
   "metadata": {},
   "source": [
    "1) Создать матрицу с числами в диапазоне от 1 до 4 по диагонали. В других ячейках матрицы должны быть семерки."
   ]
  },
  {
   "cell_type": "code",
   "execution_count": 4,
   "metadata": {},
   "outputs": [
    {
     "data": {
      "text/plain": [
       "array([[1, 7, 7, 7],\n",
       "       [7, 2, 7, 7],\n",
       "       [7, 7, 3, 7],\n",
       "       [7, 7, 7, 4]])"
      ]
     },
     "execution_count": 4,
     "metadata": {},
     "output_type": "execute_result"
    }
   ],
   "source": [
    "import numpy as np\n",
    "mat = np.full((4, 4), 7)\n",
    "for i in range(len(mat)):\n",
    "    mat[i][i] = i + 1\n",
    "mat"
   ]
  },
  {
   "cell_type": "markdown",
   "metadata": {},
   "source": [
    "2) Создать матрицу размера 5 на 5 заполненную чилами от 0 до 4 в строках."
   ]
  },
  {
   "cell_type": "code",
   "execution_count": 8,
   "metadata": {},
   "outputs": [
    {
     "data": {
      "text/plain": [
       "[array([0, 1, 2, 3, 4]),\n",
       " array([0, 1, 2, 3, 4]),\n",
       " array([0, 1, 2, 3, 4]),\n",
       " array([0, 1, 2, 3, 4]),\n",
       " array([0, 1, 2, 3, 4])]"
      ]
     },
     "execution_count": 8,
     "metadata": {},
     "output_type": "execute_result"
    }
   ],
   "source": [
    "mat = []\n",
    "for i in range(5):\n",
    "    mat.append(np.arange(0,5))\n",
    "mat"
   ]
  },
  {
   "cell_type": "markdown",
   "metadata": {},
   "source": [
    "3) Создать матрицу случайных чисел размера 10 на 10 и отнять среднее по строкам из каждого элемента строки"
   ]
  },
  {
   "cell_type": "code",
   "execution_count": 15,
   "metadata": {},
   "outputs": [
    {
     "name": "stdout",
     "output_type": "stream",
     "text": [
      "[[78 77 58 27 22 11 91 53 85 25]\n",
      " [13  5 59 45 10 43 59 72 25 62]\n",
      " [82 77 25 87 40  0 50 10  2 74]\n",
      " [71 24 23  1 34 35 61 64 32 13]\n",
      " [78 46 91 50 38 96 23 89 78 15]\n",
      " [86 36 25 97 43 27 37 37 11 42]\n",
      " [52 64 15 58 55 49 19 39 25 91]\n",
      " [91  0 29 73 19  3  6 66 61 19]\n",
      " [26 70 35 80 56 59 92 78 38 21]\n",
      " [51 25 59 20 12 22 97 41 12 85]]\n",
      "[[52.7, 52.7, 52.7, 52.7, 52.7, 52.7, 52.7, 52.7, 52.7, 52.7], [39.3, 39.3, 39.3, 39.3, 39.3, 39.3, 39.3, 39.3, 39.3, 39.3], [44.7, 44.7, 44.7, 44.7, 44.7, 44.7, 44.7, 44.7, 44.7, 44.7], [35.8, 35.8, 35.8, 35.8, 35.8, 35.8, 35.8, 35.8, 35.8, 35.8], [60.4, 60.4, 60.4, 60.4, 60.4, 60.4, 60.4, 60.4, 60.4, 60.4], [44.1, 44.1, 44.1, 44.1, 44.1, 44.1, 44.1, 44.1, 44.1, 44.1], [46.7, 46.7, 46.7, 46.7, 46.7, 46.7, 46.7, 46.7, 46.7, 46.7], [36.7, 36.7, 36.7, 36.7, 36.7, 36.7, 36.7, 36.7, 36.7, 36.7], [55.5, 55.5, 55.5, 55.5, 55.5, 55.5, 55.5, 55.5, 55.5, 55.5], [42.4, 42.4, 42.4, 42.4, 42.4, 42.4, 42.4, 42.4, 42.4, 42.4]]\n"
     ]
    },
    {
     "data": {
      "text/plain": [
       "array([[ 25.3,  24.3,   5.3, -25.7, -30.7, -41.7,  38.3,   0.3,  32.3,\n",
       "        -27.7],\n",
       "       [-26.3, -34.3,  19.7,   5.7, -29.3,   3.7,  19.7,  32.7, -14.3,\n",
       "         22.7],\n",
       "       [ 37.3,  32.3, -19.7,  42.3,  -4.7, -44.7,   5.3, -34.7, -42.7,\n",
       "         29.3],\n",
       "       [ 35.2, -11.8, -12.8, -34.8,  -1.8,  -0.8,  25.2,  28.2,  -3.8,\n",
       "        -22.8],\n",
       "       [ 17.6, -14.4,  30.6, -10.4, -22.4,  35.6, -37.4,  28.6,  17.6,\n",
       "        -45.4],\n",
       "       [ 41.9,  -8.1, -19.1,  52.9,  -1.1, -17.1,  -7.1,  -7.1, -33.1,\n",
       "         -2.1],\n",
       "       [  5.3,  17.3, -31.7,  11.3,   8.3,   2.3, -27.7,  -7.7, -21.7,\n",
       "         44.3],\n",
       "       [ 54.3, -36.7,  -7.7,  36.3, -17.7, -33.7, -30.7,  29.3,  24.3,\n",
       "        -17.7],\n",
       "       [-29.5,  14.5, -20.5,  24.5,   0.5,   3.5,  36.5,  22.5, -17.5,\n",
       "        -34.5],\n",
       "       [  8.6, -17.4,  16.6, -22.4, -30.4, -20.4,  54.6,  -1.4, -30.4,\n",
       "         42.6]])"
      ]
     },
     "execution_count": 15,
     "metadata": {},
     "output_type": "execute_result"
    }
   ],
   "source": [
    "mat = np.random.randint(0, 100, (10, 10))\n",
    "sub = []\n",
    "for i in range(len(mat)):\n",
    "    dS = mat[i].sum() / len(mat)\n",
    "    sub.append([dS]*len(mat))\n",
    "print(mat)\n",
    "print(sub)\n",
    "mat = mat - sub\n",
    "mat"
   ]
  },
  {
   "cell_type": "markdown",
   "metadata": {},
   "source": [
    "4) Создать матрицу случайных чисел размера 10 на 10 и отнять медиану по столбцам из каждого элемента столбца  "
   ]
  },
  {
   "cell_type": "code",
   "execution_count": 22,
   "metadata": {},
   "outputs": [
    {
     "name": "stdout",
     "output_type": "stream",
     "text": [
      "[[52 89 37 53 77 26 34 16 65 13]\n",
      " [50 81 30  2 35 70 74 41 22 98]\n",
      " [16 54 47 91 12 86  4 81 79 19]\n",
      " [54 99 17  0 52 98 14 69  1 47]\n",
      " [60 94 59 23 51  1 46 57 57 18]\n",
      " [ 1 45 38 80 22 88 81 43 30 17]\n",
      " [27 74 47 74 85 59 33  9  9 36]\n",
      " [50 80 47 12 38 10 95 77 42 40]\n",
      " [87 19 97 60 87 70 52 70 13 59]\n",
      " [86 53 18 27 52 26 87 87 87 77]]\n"
     ]
    },
    {
     "ename": "TypeError",
     "evalue": "Cannot cast ufunc subtract output from dtype('float64') to dtype('int64') with casting rule 'same_kind'",
     "output_type": "error",
     "traceback": [
      "\u001b[0;31m---------------------------------------------------------------------------\u001b[0m",
      "\u001b[0;31mTypeError\u001b[0m                                 Traceback (most recent call last)",
      "\u001b[0;32m<ipython-input-22-da0ae4fbda0f>\u001b[0m in \u001b[0;36m<module>\u001b[0;34m\u001b[0m\n\u001b[1;32m      5\u001b[0m     \u001b[0mmed\u001b[0m \u001b[0;34m=\u001b[0m \u001b[0mnp\u001b[0m\u001b[0;34m.\u001b[0m\u001b[0mmedian\u001b[0m\u001b[0;34m(\u001b[0m\u001b[0mmat\u001b[0m\u001b[0;34m[\u001b[0m\u001b[0mi\u001b[0m\u001b[0;34m]\u001b[0m\u001b[0;34m)\u001b[0m\u001b[0;34m\u001b[0m\u001b[0m\n\u001b[1;32m      6\u001b[0m     \u001b[0marr\u001b[0m \u001b[0;34m=\u001b[0m \u001b[0mnp\u001b[0m\u001b[0;34m.\u001b[0m\u001b[0marray\u001b[0m\u001b[0;34m(\u001b[0m\u001b[0;34m[\u001b[0m\u001b[0mmed\u001b[0m\u001b[0;34m]\u001b[0m\u001b[0;34m*\u001b[0m\u001b[0mlen\u001b[0m\u001b[0;34m(\u001b[0m\u001b[0mmat\u001b[0m\u001b[0;34m)\u001b[0m\u001b[0;34m)\u001b[0m\u001b[0;34m\u001b[0m\u001b[0m\n\u001b[0;32m----> 7\u001b[0;31m     \u001b[0mmat\u001b[0m\u001b[0;34m[\u001b[0m\u001b[0mi\u001b[0m\u001b[0;34m]\u001b[0m \u001b[0;34m-=\u001b[0m \u001b[0marr\u001b[0m\u001b[0;34m\u001b[0m\u001b[0m\n\u001b[0m\u001b[1;32m      8\u001b[0m \u001b[0mmat\u001b[0m\u001b[0;34m\u001b[0m\u001b[0m\n",
      "\u001b[0;31mTypeError\u001b[0m: Cannot cast ufunc subtract output from dtype('float64') to dtype('int64') with casting rule 'same_kind'"
     ]
    }
   ],
   "source": [
    "mat = np.random.randint(0, 100, (10, 10))\n",
    "print(mat)\n",
    "for i in range(len(mat)):\n",
    "    med = np.median(mat[i])\n",
    "    arr = np.array([med]*len(mat))\n",
    "    mat[i] -= arr\n",
    "mat"
   ]
  },
  {
   "cell_type": "markdown",
   "metadata": {},
   "source": [
    "5) Создать матрицу случайных чисел 5x5. Добавить к ней столбецы максимумов и минимумов по строкам. Получится матрица 5x7.  "
   ]
  },
  {
   "cell_type": "code",
   "execution_count": null,
   "metadata": {},
   "outputs": [],
   "source": []
  },
  {
   "cell_type": "markdown",
   "metadata": {},
   "source": [
    "6) Вектор чисел от 1 до 51 преобразовать в вектор нечетных чисел и в вектор четных чисел, поменять их размерности, чтобы получились две матрица. Найти произведение этих матриц. Найти обратную матрицу эётого произведения.  "
   ]
  },
  {
   "cell_type": "code",
   "execution_count": null,
   "metadata": {},
   "outputs": [],
   "source": []
  },
  {
   "cell_type": "markdown",
   "metadata": {},
   "source": [
    "7) Создать 8x8 матрицу и заполнить её в шахматном порядке нулями и единицами. "
   ]
  },
  {
   "cell_type": "code",
   "execution_count": null,
   "metadata": {},
   "outputs": [],
   "source": []
  }
 ],
 "metadata": {
  "kernelspec": {
   "display_name": "Python 3",
   "language": "python",
   "name": "python3"
  },
  "language_info": {
   "codemirror_mode": {
    "name": "ipython",
    "version": 3
   },
   "file_extension": ".py",
   "mimetype": "text/x-python",
   "name": "python",
   "nbconvert_exporter": "python",
   "pygments_lexer": "ipython3",
   "version": "3.7.0"
  }
 },
 "nbformat": 4,
 "nbformat_minor": 2
}
