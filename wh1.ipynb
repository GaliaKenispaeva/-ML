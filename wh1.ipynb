{
 "cells": [
  {
   "cell_type": "code",
   "execution_count": 1,
   "metadata": {},
   "outputs": [
    {
     "data": {
      "text/plain": [
       "(3, 2)"
      ]
     },
     "execution_count": 1,
     "metadata": {},
     "output_type": "execute_result"
    }
   ],
   "source": [
    "a = 3\n",
    "b = 2\n",
    "\n",
    "a,b"
   ]
  },
  {
   "cell_type": "code",
   "execution_count": 3,
   "metadata": {},
   "outputs": [],
   "source": [
    "def summa(n):\n",
    "    # тут ваш код.\n",
    "    # Реализуйте используя цикл\n",
    "    sum = 0\n",
    "    while n > 0:\n",
    "        sum += n%10\n",
    "        n //=10\n",
    "    return sum"
   ]
  },
  {
   "cell_type": "code",
   "execution_count": 3,
   "metadata": {},
   "outputs": [
    {
     "data": {
      "text/plain": [
       "9"
      ]
     },
     "execution_count": 3,
     "metadata": {},
     "output_type": "execute_result"
    }
   ],
   "source": [
    "def summa_recursive(n):\n",
    "    # тут ваш код.\n",
    "    # Реализуйте используя рекурсию\n",
    "    if n <= 0:\n",
    "        return 0\n",
    "    return  summa_recursive(n//10)+(n%10)\n",
    "summa_recursive(2124)"
   ]
  },
  {
   "cell_type": "code",
   "execution_count": 5,
   "metadata": {},
   "outputs": [
    {
     "data": {
      "application/vnd.jupyter.widget-view+json": {
       "model_id": "81b9a9dcc57d44ca9abd2c8af25d3732",
       "version_major": 2,
       "version_minor": 0
      },
      "text/plain": [
       "Text(value='', placeholder='тут текст')"
      ]
     },
     "metadata": {},
     "output_type": "display_data"
    },
    {
     "name": "stdout",
     "output_type": "stream",
     "text": [
      "ее  -  3\n",
      "ттт  -  1\n",
      "['ее', 'ттт', 'ее', 'ее']\n"
     ]
    }
   ],
   "source": [
    "import re\n",
    "\n",
    "def word_count(text):\n",
    "    # тут ваш код\n",
    "    text = re.sub('[!@#$\\n\\0,.:;-]', ' ', text)\n",
    "    dictionary = dict()\n",
    "    text = text.split()\n",
    "    i = 0\n",
    "    while i < len(text):\n",
    "        if dictionary.get(text[i]) is None:\n",
    "            dictionary[text[i]] = 1\n",
    "        else:\n",
    "            dictionary[text[i]] += 1\n",
    "        i += 1\n",
    "    for key, value in dictionary.items():\n",
    "        print(key, \" - \", value)    \n",
    "    print(text)\n",
    "# Это магия для ввода текста, не трогайте её\n",
    "# Выполните эту ячейку и увидите поле для ввода текста. \n",
    "# Введите текст, нажмите Enter и получите ответ, который вы вычислили в функции выше\n",
    "from ipywidgets import widgets\n",
    "text = widgets.Text(placeholder=\"тут текст\")\n",
    "display(text)\n",
    "text.on_submit(lambda x : word_count(x.value))\n",
    "\n",
    "# введите число и нажмите enter"
   ]
  },
  {
   "cell_type": "code",
   "execution_count": null,
   "metadata": {},
   "outputs": [],
   "source": []
  }
 ],
 "metadata": {
  "kernelspec": {
   "display_name": "Python 3",
   "language": "python",
   "name": "python3"
  },
  "language_info": {
   "codemirror_mode": {
    "name": "ipython",
    "version": 3
   },
   "file_extension": ".py",
   "mimetype": "text/x-python",
   "name": "python",
   "nbconvert_exporter": "python",
   "pygments_lexer": "ipython3",
   "version": "3.7.0"
  }
 },
 "nbformat": 4,
 "nbformat_minor": 2
}
